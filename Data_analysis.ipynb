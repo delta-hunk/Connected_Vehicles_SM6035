{
 "cells": [
  {
   "cell_type": "markdown",
   "id": "9ac411c8",
   "metadata": {},
   "source": [
    "## CONNECTED VEHICLES SM6035\n",
    "### Soumen Sarkar CS22MTECH11011, IIT Hyderabad, 30 March 2023\n"
   ]
  },
  {
   "cell_type": "code",
   "execution_count": 100,
   "id": "4a6b977d",
   "metadata": {},
   "outputs": [],
   "source": [
    "import pandas as pd\n",
    "import numpy as np\n",
    "import matplotlib.pyplot as plt\n",
    "import matplotlib as mpl\n",
    "import seaborn as sns"
   ]
  },
  {
   "cell_type": "code",
   "execution_count": 101,
   "id": "45da9734",
   "metadata": {
    "scrolled": true
   },
   "outputs": [],
   "source": [
    "FileName = \"Rx3000byTx1000.csv\"           # Rename it to the file you want to analyse\n",
    "df = pd.read_csv(FileName)                #read the entire csv file in to dataframe\n",
    "MsgCount = df[[\"MsgCount\"]]               # This is the x-axis data \n",
    "Latitude  = df[[\"Latitude\"]]              # This is the y-axis data\n",
    "\n",
    "\n",
    "# convert to numpy array to handle precision calculations\n",
    "MsgCount = MsgCount.to_numpy()         \n",
    "Latitude  = Latitude.to_numpy()              \n",
    "                                          \n",
    "\n",
    "n = len(MsgCount)                         # get the total number of rows\n",
    "#print(len(x))                            # we can print to avoid any problems later \n",
    "\n",
    "x = np.array([0])                         # initialise the x-axis array\n",
    "y = np.array([0])                         # initialise the y-axis array\n",
    "\n",
    "\n",
    "for i in range(0,n-1,1): \n",
    "    x = np.append(x, 0)\n",
    "    y = np.append(y, Latitude[i])\n",
    "    temp = abs(MsgCount[i+1]-MsgCount[i]-1)\n",
    "    avg  = int((Latitude[i+1] + Latitude[i] ) /2)\n",
    "    \n",
    "    if( temp > 0):\n",
    "        x = np.append(x, temp)\n",
    "        y = np.append(y, avg)\n",
    "        \n",
    "    \n",
    "#print(y)"
   ]
  },
  {
   "cell_type": "markdown",
   "id": "61d3eee1",
   "metadata": {},
   "source": [
    "## Graph plotting using matplotlib"
   ]
  },
  {
   "cell_type": "code",
   "execution_count": 102,
   "id": "e7e4c87e",
   "metadata": {},
   "outputs": [
    {
     "data": {
      "image/png": "[encoded data removed]",
      "text/plain": [
       "<Figure size 720x432 with 1 Axes>"
      ]
     },
     "metadata": {
      "needs_background": "light"
     },
     "output_type": "display_data"
    }
   ],
   "source": [
    "\n",
    "f = plt.figure()\n",
    "f.set_figwidth(10)\n",
    "f.set_figheight(6)\n",
    "   \n",
    "plt.xticks(range(20) )\n",
    "plt.scatter(y, x, marker =\"o\",color=\"#FF3030\",alpha=1, s = 40)\n",
    "plt.savefig('3000_pass2_Trial_1.png', transparent=True)\n",
    "plt.show()\n",
    "#plt.savefig(\"Rx1000byTx3000.jpeg\")   # incase we want a jpeg file"
   ]
  },
  {
   "cell_type": "markdown",
   "id": "7a35cb6d",
   "metadata": {},
   "source": [
    "## To export our x and y axis data to plot on 3rd party application"
   ]
  },
  {
   "cell_type": "code",
   "execution_count": 103,
   "id": "6fcb204d",
   "metadata": {},
   "outputs": [],
   "source": [
    "\n",
    "new_csv = pd.DataFrame({'Latitude' : dh,})\n",
    "\n",
    "#print(new_csv)              # check before exporting\n",
    "\n",
    "new_csv.to_csv('FileName.csv', index=False)  # rename teh file accordingly"
   ]
  }
 ],
 "metadata": {
  "kernelspec": {
   "display_name": "Python 3 (ipykernel)",
   "language": "python",
   "name": "python3"
  },
  "language_info": {
   "codemirror_mode": {
    "name": "ipython",
    "version": 3
   },
   "file_extension": ".py",
   "mimetype": "text/x-python",
   "name": "python",
   "nbconvert_exporter": "python",
   "pygments_lexer": "ipython3",
   "version": "3.9.12"
  }
 },
 "nbformat": 4,
 "nbformat_minor": 5
}
